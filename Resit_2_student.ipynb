{
 "cells": [
  {
   "cell_type": "markdown",
   "metadata": {},
   "source": [
    "# Exam R\n",
    "Mark Klik & Misja Mikkers\n",
    "\n",
    "# Introduction\n",
    "\n",
    "Before you turn this problem in, make sure everything runs as expected. First, **restart the kernel** (in the menubar, select Kernel$\\rightarrow$Restart) and then **run all cells** (in the menubar, select Cell$\\rightarrow$Run All).\n",
    "\n",
    "Make sure you fill in any place that says `YOUR CODE HERE` or \"YOUR ANSWER HERE\", as well as your name and collaborators below:\n"
   ]
  },
  {
   "cell_type": "code",
   "execution_count": 9,
   "metadata": {},
   "outputs": [],
   "source": [
    "NAME = \"Furkan Koçak, #2010234#\"\n",
    "COLLABORATORS = \"\""
   ]
  },
  {
   "cell_type": "markdown",
   "metadata": {},
   "source": [
    "Fill in the cell above to provide us with your name and student number, like\n",
    "\n",
    "NAME = \"Adam Smith, #student number#\"\n",
    "\n",
    "where you replace \"#student number#\" with your ... (very good!)\n",
    "\n",
    "Unfortunately, you are not allowed to work with \"COLLABORATORS\" in this exam.\n",
    "\n",
    "## exam October 26th, 2018\n",
    "\n",
    "With this R part of the exam you can earn at max. 4 points.\n",
    "\n",
    "In the first cell of the notebook, give us your name and student number in the way indicated above.\n",
    "\n",
    "Fill in the notebook (see below for code cells and text cells that you need to fill in).\n",
    "\n",
    "If you look at the menus above (File, Edit, View etc.), there is one called \"Cell\". If you click on this, you can change the \"Cell Type\". Choose \"Code\" when you are typing python or R code. Choose \"Markdown\" when you are typing, well, markdown.\n",
    "\n",
    "When you finish the notebook, make sure that you save it with the output of your code included.\n",
    "\n",
    "Then put it on github, e.g. by dragging it onto github (see instructions below).\n",
    "\n",
    "Finally, add a link to your README file with the name of this exam: \"Exam R September 7, 2018\".\n",
    "\n",
    "# Packages\n",
    "\n",
    "You will need the following packages for this exam."
   ]
  },
  {
   "cell_type": "code",
   "execution_count": 19,
   "metadata": {},
   "outputs": [],
   "source": [
    "library(tidyverse)"
   ]
  },
  {
   "cell_type": "markdown",
   "metadata": {},
   "source": [
    "# Assignment 1\n",
    "\n",
    "## Data\n",
    "\n",
    "Please read in \"resit.csv\" and check the structure.\n",
    "\n",
    "If needed change the variables e and x1 into a numeric variable.\n",
    "\n",
    "Hint: don't forget you cannot change a factor in a numeric variable directly!\n"
   ]
  },
  {
   "cell_type": "code",
   "execution_count": 22,
   "metadata": {},
   "outputs": [
    {
     "data": {
      "text/html": [
       "<table>\n",
       "<thead><tr><th scope=col>Obs</th><th scope=col>e</th><th scope=col>x1</th></tr></thead>\n",
       "<tbody>\n",
       "\t<tr><td>1         </td><td>47.00774  </td><td> 0.3003487</td></tr>\n",
       "\t<tr><td>2         </td><td>58.86894  </td><td>23.3893148</td></tr>\n",
       "\t<tr><td>3         </td><td>55.57487  </td><td> 9.3985674</td></tr>\n",
       "\t<tr><td>4         </td><td>51.54298  </td><td> 5.2412200</td></tr>\n",
       "\t<tr><td>5         </td><td>49.23160  </td><td> 4.6296740</td></tr>\n",
       "\t<tr><td>6         </td><td>51.38015  </td><td>21.6645190</td></tr>\n",
       "</tbody>\n",
       "</table>\n"
      ],
      "text/latex": [
       "\\begin{tabular}{r|lll}\n",
       " Obs & e & x1\\\\\n",
       "\\hline\n",
       "\t 1          & 47.00774   &  0.3003487\\\\\n",
       "\t 2          & 58.86894   & 23.3893148\\\\\n",
       "\t 3          & 55.57487   &  9.3985674\\\\\n",
       "\t 4          & 51.54298   &  5.2412200\\\\\n",
       "\t 5          & 49.23160   &  4.6296740\\\\\n",
       "\t 6          & 51.38015   & 21.6645190\\\\\n",
       "\\end{tabular}\n"
      ],
      "text/markdown": [
       "\n",
       "Obs | e | x1 | \n",
       "|---|---|---|---|---|---|\n",
       "| 1          | 47.00774   |  0.3003487 | \n",
       "| 2          | 58.86894   | 23.3893148 | \n",
       "| 3          | 55.57487   |  9.3985674 | \n",
       "| 4          | 51.54298   |  5.2412200 | \n",
       "| 5          | 49.23160   |  4.6296740 | \n",
       "| 6          | 51.38015   | 21.6645190 | \n",
       "\n",
       "\n"
      ],
      "text/plain": [
       "  Obs e        x1        \n",
       "1 1   47.00774  0.3003487\n",
       "2 2   58.86894 23.3893148\n",
       "3 3   55.57487  9.3985674\n",
       "4 4   51.54298  5.2412200\n",
       "5 5   49.23160  4.6296740\n",
       "6 6   51.38015 21.6645190"
      ]
     },
     "metadata": {},
     "output_type": "display_data"
    }
   ],
   "source": [
    "data1 <- read.csv2(\"resit.csv\", header =TRUE)\n",
    "head(data1)"
   ]
  },
  {
   "cell_type": "markdown",
   "metadata": {},
   "source": [
    "# Data manipulation\n",
    "\n",
    "We will construct the variable \"y\". You have to create the variable \"y\" with the formula:\n",
    "\n",
    "$$ 10 + 3*x1 + e $$\n",
    "\n",
    "Show the head of your data"
   ]
  },
  {
   "cell_type": "code",
   "execution_count": 23,
   "metadata": {},
   "outputs": [
    {
     "data": {
      "text/html": [
       "<table>\n",
       "<thead><tr><th scope=col>Obs</th><th scope=col>e</th><th scope=col>x1</th><th scope=col>y</th></tr></thead>\n",
       "<tbody>\n",
       "\t<tr><td>1         </td><td>47.00774  </td><td> 0.3003487</td><td> 57.90879 </td></tr>\n",
       "\t<tr><td>2         </td><td>58.86894  </td><td>23.3893148</td><td>139.03688 </td></tr>\n",
       "\t<tr><td>3         </td><td>55.57487  </td><td> 9.3985674</td><td> 93.77057 </td></tr>\n",
       "\t<tr><td>4         </td><td>51.54298  </td><td> 5.2412200</td><td> 77.26664 </td></tr>\n",
       "\t<tr><td>5         </td><td>49.23160  </td><td> 4.6296740</td><td> 73.12062 </td></tr>\n",
       "\t<tr><td>6         </td><td>51.38015  </td><td>21.6645190</td><td>126.37371 </td></tr>\n",
       "</tbody>\n",
       "</table>\n"
      ],
      "text/latex": [
       "\\begin{tabular}{r|llll}\n",
       " Obs & e & x1 & y\\\\\n",
       "\\hline\n",
       "\t 1          & 47.00774   &  0.3003487 &  57.90879 \\\\\n",
       "\t 2          & 58.86894   & 23.3893148 & 139.03688 \\\\\n",
       "\t 3          & 55.57487   &  9.3985674 &  93.77057 \\\\\n",
       "\t 4          & 51.54298   &  5.2412200 &  77.26664 \\\\\n",
       "\t 5          & 49.23160   &  4.6296740 &  73.12062 \\\\\n",
       "\t 6          & 51.38015   & 21.6645190 & 126.37371 \\\\\n",
       "\\end{tabular}\n"
      ],
      "text/markdown": [
       "\n",
       "Obs | e | x1 | y | \n",
       "|---|---|---|---|---|---|\n",
       "| 1          | 47.00774   |  0.3003487 |  57.90879  | \n",
       "| 2          | 58.86894   | 23.3893148 | 139.03688  | \n",
       "| 3          | 55.57487   |  9.3985674 |  93.77057  | \n",
       "| 4          | 51.54298   |  5.2412200 |  77.26664  | \n",
       "| 5          | 49.23160   |  4.6296740 |  73.12062  | \n",
       "| 6          | 51.38015   | 21.6645190 | 126.37371  | \n",
       "\n",
       "\n"
      ],
      "text/plain": [
       "  Obs e        x1         y        \n",
       "1 1   47.00774  0.3003487  57.90879\n",
       "2 2   58.86894 23.3893148 139.03688\n",
       "3 3   55.57487  9.3985674  93.77057\n",
       "4 4   51.54298  5.2412200  77.26664\n",
       "5 5   49.23160  4.6296740  73.12062\n",
       "6 6   51.38015 21.6645190 126.37371"
      ]
     },
     "metadata": {},
     "output_type": "display_data"
    }
   ],
   "source": [
    "data1 <- data1 %>%\n",
    "mutate(y= 10 + 3 * x1 + e)\n",
    "\n",
    "head(data1)"
   ]
  },
  {
   "cell_type": "markdown",
   "metadata": {},
   "source": [
    "## Regression \n",
    "\n",
    "You will now have to run a regression with y as a function of x1. Show the summary statistics."
   ]
  },
  {
   "cell_type": "code",
   "execution_count": 33,
   "metadata": {},
   "outputs": [
    {
     "data": {
      "text/plain": [
       "\n",
       "Call:\n",
       "lm(formula = x1 ~ y, data = data1)\n",
       "\n",
       "Residuals:\n",
       "    Min      1Q  Median      3Q     Max \n",
       "-3.2648 -0.9762 -0.0170  0.9470  3.2055 \n",
       "\n",
       "Coefficients:\n",
       "              Estimate Std. Error t value Pr(>|t|)    \n",
       "(Intercept) -18.157769   0.575049  -31.58   <2e-16 ***\n",
       "y             0.316401   0.005018   63.05   <2e-16 ***\n",
       "---\n",
       "Signif. codes:  0 '***' 0.001 '**' 0.01 '*' 0.05 '.' 0.1 ' ' 1\n",
       "\n",
       "Residual standard error: 1.475 on 98 degrees of freedom\n",
       "Multiple R-squared:  0.9759,\tAdjusted R-squared:  0.9757 \n",
       "F-statistic:  3975 on 1 and 98 DF,  p-value: < 2.2e-16\n"
      ]
     },
     "metadata": {},
     "output_type": "display_data"
    }
   ],
   "source": [
    "regression <- lm(data=data1, x1 ~ y)\n",
    "summary(regression)"
   ]
  },
  {
   "cell_type": "markdown",
   "metadata": {},
   "source": [
    "## Plot\n",
    "\n",
    "Now you have to make a scatter plot of the data:\n",
    "\n",
    "* with x1 on the x-axis\n",
    "* y on the y-axis\n",
    "* the regression line in green, with confidence interval\n",
    "* in a light theme"
   ]
  },
  {
   "cell_type": "code",
   "execution_count": 43,
   "metadata": {},
   "outputs": [
    {
     "data": {},
     "metadata": {},
     "output_type": "display_data"
    },
    {
     "data": {
      "image/png": "[encoded data removed]",
      "text/plain": [
       "plot without title"
      ]
     },
     "metadata": {},
     "output_type": "display_data"
    }
   ],
   "source": [
    "plot1 <-ggplot(data = data1, aes(x = x1, y = y)) +\n",
    "  geom_point()\n",
    "plot1\n"
   ]
  },
  {
   "cell_type": "code",
   "execution_count": null,
   "metadata": {},
   "outputs": [],
   "source": []
  }
 ],
 "metadata": {
  "kernelspec": {
   "display_name": "R",
   "language": "R",
   "name": "ir"
  },
  "language_info": {
   "codemirror_mode": "r",
   "file_extension": ".r",
   "mimetype": "text/x-r-source",
   "name": "R",
   "pygments_lexer": "r",
   "version": "3.3.3"
  }
 },
 "nbformat": 4,
 "nbformat_minor": 2
}
